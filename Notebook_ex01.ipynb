{
 "cells": [
  {
   "cell_type": "markdown",
   "id": "a8f590a2-d538-460c-827e-8714fc23e234",
   "metadata": {},
   "source": [
    "## Exercise 1: Your first NumPy array"
   ]
  },
  {
   "cell_type": "code",
   "execution_count": 1,
   "id": "7fc621c4-b15a-4c5b-a4ed-d405c484b8e2",
   "metadata": {},
   "outputs": [
    {
     "name": "stdout",
     "output_type": "stream",
     "text": [
      "[42 3.14 'hello' {'a': 1, 'b': 2} list([1, 2, 3]) (4, 5, 6) {8, 9, 7} True]\n",
      "42 <class 'int'>\n",
      "3.14 <class 'float'>\n",
      "hello <class 'str'>\n",
      "{'a': 1, 'b': 2} <class 'dict'>\n",
      "[1, 2, 3] <class 'list'>\n",
      "(4, 5, 6) <class 'tuple'>\n",
      "{8, 9, 7} <class 'set'>\n",
      "True <class 'bool'>\n"
     ]
    }
   ],
   "source": [
    "import numpy as np\n",
    "\n",
    "mixed_array = np.array([\n",
    "    42,                 # integer\n",
    "    3.14,               # float\n",
    "    \"hello\",            # string\n",
    "    {'a': 1, 'b': 2},   # dictionary\n",
    "    [1, 2, 3],          # list\n",
    "    (4, 5, 6),          # tuple\n",
    "    {7, 8, 9},          # set\n",
    "    True                # boolean\n",
    "], dtype=object)\n",
    "\n",
    "print(mixed_array)\n",
    "\n",
    "for i in mixed_array:\n",
    "    print(i, type(i))"
   ]
  },
  {
   "cell_type": "code",
   "execution_count": null,
   "id": "edbcce9c-885c-4ac9-8407-9e4a19484fd0",
   "metadata": {},
   "outputs": [],
   "source": []
  }
 ],
 "metadata": {
  "kernelspec": {
   "display_name": "Python 3 (ipykernel)",
   "language": "python",
   "name": "python3"
  },
  "language_info": {
   "codemirror_mode": {
    "name": "ipython",
    "version": 3
   },
   "file_extension": ".py",
   "mimetype": "text/x-python",
   "name": "python",
   "nbconvert_exporter": "python",
   "pygments_lexer": "ipython3",
   "version": "3.12.3"
  }
 },
 "nbformat": 4,
 "nbformat_minor": 5
}
