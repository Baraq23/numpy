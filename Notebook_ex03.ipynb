{
 "cells": [
  {
   "cell_type": "markdown",
   "id": "d1e800c5-c589-406a-a989-b7a607f3caf9",
   "metadata": {},
   "source": [
    "## Exercise 3: Slicing"
   ]
  },
  {
   "cell_type": "code",
   "execution_count": 14,
   "id": "a0390d65-c435-49c8-9bc9-946680114713",
   "metadata": {},
   "outputs": [
    {
     "name": "stdout",
     "output_type": "stream",
     "text": [
      "[  1   2   3   4   5   6   7   8   9  10  11  12  13  14  15  16  17  18\n",
      "  19  20  21  22  23  24  25  26  27  28  29  30  31  32  33  34  35  36\n",
      "  37  38  39  40  41  42  43  44  45  46  47  48  49  50  51  52  53  54\n",
      "  55  56  57  58  59  60  61  62  63  64  65  66  67  68  69  70  71  72\n",
      "  73  74  75  76  77  78  79  80  81  82  83  84  85  86  87  88  89  90\n",
      "  91  92  93  94  95  96  97  98  99 100]\n"
     ]
    }
   ],
   "source": [
    "import numpy as np\n",
    "arr = np.arange(1, 101)\n",
    "print(arr)"
   ]
  },
  {
   "cell_type": "code",
   "execution_count": 2,
   "id": "04c49c4e-0c8f-430d-8cdc-a1f908a2bef0",
   "metadata": {},
   "outputs": [
    {
     "name": "stdout",
     "output_type": "stream",
     "text": [
      "[ 1  3  5  7  9 11 13 15 17 19 21 23 25 27 29 31 33 35 37 39 41 43 45 47\n",
      " 49 51 53 55 57 59 61 63 65 67 69 71 73 75 77 79 81 83 85 87 89 91 93 95\n",
      " 97 99]\n"
     ]
    }
   ],
   "source": [
    "odd_arr = arr[arr % 2 != 0]    # select only odd numbers\n",
    "print(odd_arr)"
   ]
  },
  {
   "cell_type": "code",
   "execution_count": 6,
   "id": "aacfb847-34a0-488e-af20-16bcfe443b93",
   "metadata": {},
   "outputs": [
    {
     "name": "stdout",
     "output_type": "stream",
     "text": [
      "[100  98  96  94  92  90  88  86  84  82  80  78  76  74  72  70  68  66\n",
      "  64  62  60  58  56  54  52  50  48  46  44  42  40  38  36  34  32  30\n",
      "  28  26  24  22  20  18  16  14  12  10   8   6   4   2]\n"
     ]
    }
   ],
   "source": [
    "even_arr = arr[arr % 2 == 0]    # select only even numbers\n",
    "rev_even_arr = np.flip(even_arr) # revese the array\n",
    "print(rev_even_arr)"
   ]
  },
  {
   "cell_type": "code",
   "execution_count": 15,
   "id": "2c755ca9-f924-48ea-a90c-2720fce04882",
   "metadata": {},
   "outputs": [
    {
     "name": "stdout",
     "output_type": "stream",
     "text": [
      "[  1   2   3   0   0   6   7   8   9  10  11  12  13  14  15  16  17  18\n",
      "  19  20  21  22  23  24  25  26  27  28  29  30  31  32  33  34  35  36\n",
      "  37  38  39  40  41  42  43  44  45  46  47  48  49  50  51  52  53  54\n",
      "  55  56  57  58  59  60  61  62  63  64  65  66  67  68  69  70  71  72\n",
      "  73  74  75  76  77  78  79  80  81  82  83  84  85  86  87  88  89  90\n",
      "  91  92  93  94  95  96  97  98  99 100]\n"
     ]
    }
   ],
   "source": [
    "# Using array of Q1, set the value of every 3 elements of the list (starting with the second) to 0\n",
    "arr[3:5:] = 0\n",
    "print(arr)"
   ]
  },
  {
   "cell_type": "code",
   "execution_count": null,
   "id": "b3db3e45-4f83-4bd7-80c9-525b38bc3bb2",
   "metadata": {},
   "outputs": [],
   "source": []
  }
 ],
 "metadata": {
  "kernelspec": {
   "display_name": "Python 3 (ipykernel)",
   "language": "python",
   "name": "python3"
  },
  "language_info": {
   "codemirror_mode": {
    "name": "ipython",
    "version": 3
   },
   "file_extension": ".py",
   "mimetype": "text/x-python",
   "name": "python",
   "nbconvert_exporter": "python",
   "pygments_lexer": "ipython3",
   "version": "3.12.3"
  }
 },
 "nbformat": 4,
 "nbformat_minor": 5
}
