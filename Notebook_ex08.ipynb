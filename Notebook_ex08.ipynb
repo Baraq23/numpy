{
 "cells": [
  {
   "cell_type": "markdown",
   "id": "886bb6c6-3d44-4ea3-aa27-34876bc32b89",
   "metadata": {},
   "source": [
    "## Exercise 8: Wine"
   ]
  },
  {
   "cell_type": "code",
   "execution_count": 2,
   "id": "09c60dd3-1806-4160-92af-eb1e514d88eb",
   "metadata": {},
   "outputs": [
    {
     "name": "stdout",
     "output_type": "stream",
     "text": [
      "Data shape: (1599, 12)\n",
      "Array size in bytes: 76752\n"
     ]
    }
   ],
   "source": [
    "import numpy as np\n",
    "\n",
    "# 1. Load the dataset\n",
    "data = np.genfromtxt(\"winequality-red.csv\", \n",
    "                     delimiter=\";\", \n",
    "                     skip_header=1,   # exclude header\n",
    "                     dtype=np.float32)\n",
    "\n",
    "print(\"Data shape:\", data.shape)  \n",
    "print(\"Array size in bytes:\", data.nbytes)  # should be 76800\n"
   ]
  },
  {
   "cell_type": "code",
   "execution_count": 3,
   "id": "6630d2be-1d1b-4559-9506-5077a74f640e",
   "metadata": {},
   "outputs": [
    {
     "name": "stdout",
     "output_type": "stream",
     "text": [
      "Selected rows:\n",
      " [7.800e+00 8.800e-01 0.000e+00 2.600e+00 9.800e-02 2.500e+01 6.700e+01\n",
      " 9.968e-01 3.200e+00 6.800e-01 9.800e+00 5.000e+00 7.900e+00 6.000e-01\n",
      " 6.000e-02 1.600e+00 6.900e-02 1.500e+01 5.900e+01 9.964e-01 3.300e+00\n",
      " 4.600e-01 9.400e+00 5.000e+00 7.500e+00 5.000e-01 3.600e-01 6.100e+00\n",
      " 7.100e-02 1.700e+01 1.020e+02 9.978e-01 3.350e+00 8.000e-01 1.050e+01\n",
      " 5.000e+00]\n"
     ]
    }
   ],
   "source": [
    "# Display the 2nd, 7th, and 12th rows\n",
    "rows = data[[1, 6, 11], :]   # Python indexing starts at 0\n",
    "rows = rows[~np.isnan(rows)] # remove NaN if any\n",
    "print(\"Selected rows:\\n\", rows)\n"
   ]
  },
  {
   "cell_type": "code",
   "execution_count": 4,
   "id": "6459165d-3197-4520-aa08-0582552034e4",
   "metadata": {},
   "outputs": [
    {
     "name": "stdout",
     "output_type": "stream",
     "text": [
      "Any wine with alcohol > 20%: False\n"
     ]
    }
   ],
   "source": [
    "# Any wine with alcohol > 20%\n",
    "alcohol_column = data[:, -2]   # alcohol is the second last column\n",
    "print(\"Any wine with alcohol > 20%:\", np.any(alcohol_column > 20))\n"
   ]
  },
  {
   "cell_type": "code",
   "execution_count": 5,
   "id": "d0ba36dd-e072-4915-a258-e2c0f559f1f2",
   "metadata": {},
   "outputs": [
    {
     "name": "stdout",
     "output_type": "stream",
     "text": [
      "Average alcohol %: 10.422984\n"
     ]
    }
   ],
   "source": [
    "# Average alcohol percentage\n",
    "avg_alcohol = np.nanmean(alcohol_column)  # ignores NaN\n",
    "print(\"Average alcohol %:\", avg_alcohol)\n"
   ]
  },
  {
   "cell_type": "code",
   "execution_count": 6,
   "id": "ff62831f-afcd-4631-b25d-a7861f896e76",
   "metadata": {},
   "outputs": [
    {
     "name": "stdout",
     "output_type": "stream",
     "text": [
      "pH stats: {'min': np.float32(2.74), 'max': np.float32(4.01), '25%': np.float32(3.21), '50% (median)': np.float32(3.31), '75%': np.float32(3.4), 'mean': np.float32(3.3111134)}\n"
     ]
    }
   ],
   "source": [
    "# Statistical measures for pH values\n",
    "ph_column = data[:, 8]   # pH is the 9th column (index 8)\n",
    "\n",
    "stats = {\n",
    "    \"min\": np.nanmin(ph_column),\n",
    "    \"max\": np.nanmax(ph_column),\n",
    "    \"25%\": np.nanpercentile(ph_column, 25),\n",
    "    \"50% (median)\": np.nanpercentile(ph_column, 50),\n",
    "    \"75%\": np.nanpercentile(ph_column, 75),\n",
    "    \"mean\": np.nanmean(ph_column)\n",
    "}\n",
    "print(\"pH stats:\", stats)\n"
   ]
  },
  {
   "cell_type": "code",
   "execution_count": 7,
   "id": "cb568619-ccd4-4f35-86b6-4ad56277ff75",
   "metadata": {},
   "outputs": [
    {
     "name": "stdout",
     "output_type": "stream",
     "text": [
      "Avg quality (lowest 20% sulphates): 5.1854305\n"
     ]
    }
   ],
   "source": [
    "# Average quality score of wines with lowest 20% sulphates\n",
    "sulphates = data[:, 9]   # sulphates is the 10th column (index 9)\n",
    "quality = data[:, -1]    # quality is last column\n",
    "\n",
    "threshold = np.percentile(sulphates, 20)  # 20th percentile\n",
    "mask = sulphates < threshold\n",
    "avg_quality_low_sulphates = np.mean(quality[mask])\n",
    "print(\"Avg quality (lowest 20% sulphates):\", avg_quality_low_sulphates)\n"
   ]
  },
  {
   "cell_type": "code",
   "execution_count": 9,
   "id": "f47d0add-5eda-47e4-adf5-8c8f1439e6b8",
   "metadata": {},
   "outputs": [
    {
     "name": "stdout",
     "output_type": "stream",
     "text": [
      "Mean values for best quality wines:\n",
      " [ 8.566666    0.4233333   0.39111114  2.5777776   0.06844445 13.277778\n",
      " 33.444443    0.99521226  3.2672222   0.76777774 12.094444    8.        ]\n",
      "\n",
      "\n",
      "Mean values for worst quality wines:\n",
      " [ 8.359999    0.8845      0.17099999  2.6350002   0.12249999 11.\n",
      " 24.9         0.997464    3.398       0.57000005  9.955       3.        ]\n"
     ]
    }
   ],
   "source": [
    "# Mean of all variables for best vs worst quality wines\n",
    "best_quality = np.max(quality)\n",
    "worst_quality = np.min(quality)\n",
    "\n",
    "mean_best = np.mean(data[quality == best_quality], axis=0)\n",
    "mean_worst = np.mean(data[quality == worst_quality], axis=0)\n",
    "\n",
    "print(\"Mean values for best quality wines:\\n\", mean_best)\n",
    "print(\"\\n\")\n",
    "print(\"Mean values for worst quality wines:\\n\", mean_worst)\n"
   ]
  },
  {
   "cell_type": "code",
   "execution_count": null,
   "id": "878b59e2-6555-4a1a-accf-f939359de899",
   "metadata": {},
   "outputs": [],
   "source": []
  }
 ],
 "metadata": {
  "kernelspec": {
   "display_name": "Python 3 (ipykernel)",
   "language": "python",
   "name": "python3"
  },
  "language_info": {
   "codemirror_mode": {
    "name": "ipython",
    "version": 3
   },
   "file_extension": ".py",
   "mimetype": "text/x-python",
   "name": "python",
   "nbconvert_exporter": "python",
   "pygments_lexer": "ipython3",
   "version": "3.12.3"
  }
 },
 "nbformat": 4,
 "nbformat_minor": 5
}
