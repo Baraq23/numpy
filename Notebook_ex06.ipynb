{
 "cells": [
  {
   "cell_type": "markdown",
   "id": "c8f84bd7-19da-4944-ab94-3fdeb0cbbb38",
   "metadata": {},
   "source": [
    "## Exercise 6: Broadcasting and Slicing\n"
   ]
  },
  {
   "cell_type": "code",
   "execution_count": 2,
   "id": "e418e44f-c521-4698-8e16-f9ad2ca37412",
   "metadata": {},
   "outputs": [
    {
     "name": "stdout",
     "output_type": "stream",
     "text": [
      "[[1 1 1 1 1 1 1 1 1]\n",
      " [1 1 1 1 1 1 1 1 1]\n",
      " [1 1 1 1 1 1 1 1 1]\n",
      " [1 1 1 1 1 1 1 1 1]\n",
      " [1 1 1 1 1 1 1 1 1]\n",
      " [1 1 1 1 1 1 1 1 1]\n",
      " [1 1 1 1 1 1 1 1 1]\n",
      " [1 1 1 1 1 1 1 1 1]\n",
      " [1 1 1 1 1 1 1 1 1]]\n"
     ]
    }
   ],
   "source": [
    "import numpy as np\n",
    "\n",
    "# Step 1\n",
    "arr = np.ones((9, 9), dtype=np.int8)\n",
    "print(arr)"
   ]
  },
  {
   "cell_type": "code",
   "execution_count": 30,
   "id": "3af7315a-5180-441f-82e2-ab256bc3ace6",
   "metadata": {},
   "outputs": [
    {
     "name": "stdout",
     "output_type": "stream",
     "text": [
      "int8\n"
     ]
    }
   ],
   "source": [
    "# Copy so we don't overwrite arr\n",
    "maze = arr.copy()\n",
    "print(maze)"
   ]
  },
  {
   "cell_type": "code",
   "execution_count": 29,
   "id": "9e906a48-a08c-49e0-828f-0f08f842e2ed",
   "metadata": {},
   "outputs": [
    {
     "name": "stdout",
     "output_type": "stream",
     "text": [
      "[[1 1 1 1 1 1 1 1 1]\n",
      " [1 0 0 0 0 0 0 0 1]\n",
      " [1 0 1 1 1 1 1 0 1]\n",
      " [1 0 1 0 0 0 1 0 1]\n",
      " [1 0 1 0 1 0 1 0 1]\n",
      " [1 0 1 0 0 0 1 0 1]\n",
      " [1 0 1 1 1 1 1 0 1]\n",
      " [1 0 0 0 0 0 0 0 1]\n",
      " [1 1 1 1 1 1 1 1 1]]\n"
     ]
    }
   ],
   "source": [
    "# Set inside (rows 1:-1, cols 1:-1) to 0\n",
    "maze[1:-1, 1:-1] = 0\n",
    "maze[2:-2, 2:-2] = 1\n",
    "maze[3:-3, 3:-3] = 0\n",
    "maze[4:-4, 4:-4] = 1\n",
    "print(maze)"
   ]
  },
  {
   "cell_type": "code",
   "execution_count": 39,
   "id": "5898e420-c454-455d-97a8-fbd280cf59f0",
   "metadata": {},
   "outputs": [
    {
     "name": "stdout",
     "output_type": "stream",
     "text": [
      "[1 2 3 4 5] (5,)\n",
      "\n",
      "\n",
      "[1 2 3] (3,)\n"
     ]
    }
   ],
   "source": [
    "array_1 = np.array([1, 2, 3, 4, 5], dtype=np.int8)   # shape (5,)\n",
    "array_2 = np.array([1, 2, 3], dtype=np.int8)        # shape (3,)\n",
    "\n",
    "print(array_1, array_1.shape)\n",
    "print(\"\\n\")\n",
    "print(array_2, array_2.shape)\n"
   ]
  },
  {
   "cell_type": "code",
   "execution_count": 38,
   "id": "b85c6b6a-07d2-455a-b2f1-a4b4b5457b6e",
   "metadata": {},
   "outputs": [
    {
     "name": "stdout",
     "output_type": "stream",
     "text": [
      "[1 2 3 4 5] (5,)\n",
      "\n",
      "\n",
      "[[[1]]\n",
      "\n",
      " [[2]]\n",
      "\n",
      " [[3]]] (3, 1, 1)\n"
     ]
    }
   ],
   "source": [
    "array_2 = array_2[:, np.newaxis]   # shape becomes (3,1)\n",
    "\n",
    "print(array_1, array_1.shape)\n",
    "print(\"\\n\")\n",
    "print(array_2, array_2.shape)"
   ]
  },
  {
   "cell_type": "code",
   "execution_count": 37,
   "id": "0edb03e4-c1fa-4aac-8aee-11f1a43335d8",
   "metadata": {},
   "outputs": [
    {
     "name": "stdout",
     "output_type": "stream",
     "text": [
      "[[ 1  2  3  4  5]\n",
      " [ 2  4  6  8 10]\n",
      " [ 3  6  9 12 15]]\n"
     ]
    }
   ],
   "source": [
    "result = array_2 * array_1\n",
    "print(result)\n"
   ]
  },
  {
   "cell_type": "code",
   "execution_count": null,
   "id": "1ea55187-e703-4cf1-b9b4-2b0403d2c888",
   "metadata": {},
   "outputs": [],
   "source": []
  }
 ],
 "metadata": {
  "kernelspec": {
   "display_name": "Python 3 (ipykernel)",
   "language": "python",
   "name": "python3"
  },
  "language_info": {
   "codemirror_mode": {
    "name": "ipython",
    "version": 3
   },
   "file_extension": ".py",
   "mimetype": "text/x-python",
   "name": "python",
   "nbconvert_exporter": "python",
   "pygments_lexer": "ipython3",
   "version": "3.12.3"
  }
 },
 "nbformat": 4,
 "nbformat_minor": 5
}
