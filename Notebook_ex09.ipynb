{
 "cells": [
  {
   "cell_type": "markdown",
   "id": "714873e3-9820-4776-bd03-4f430c542675",
   "metadata": {},
   "source": [
    "## Exercise 9: Football tournament"
   ]
  },
  {
   "cell_type": "code",
   "execution_count": 3,
   "id": "47d615c3-16cb-4250-bbe6-0d2923795a3d",
   "metadata": {},
   "outputs": [
    {
     "name": "stdout",
     "output_type": "stream",
     "text": [
      "Best matching:\n",
      " [[0 1 2 3 5]\n",
      " [8 7 9 4 6]]\n"
     ]
    }
   ],
   "source": [
    "import numpy as np\n",
    "\n",
    "# 1. Load forecast matrix (comma delimiter)\n",
    "model_forecasts = np.loadtxt(\"model_forecasts.txt\", delimiter=\",\")\n",
    "teams = list(range(10))  # 10 teams\n",
    "\n",
    "# 2. Generate all possible perfect matchings (recursive)\n",
    "def generate_matchings(teams):\n",
    "    if not teams:\n",
    "        return [[]]\n",
    "    first = teams[0]\n",
    "    return [\n",
    "        [(first, teams[i])] + rest\n",
    "        for i in range(1, len(teams))\n",
    "        for rest in generate_matchings(teams[1:i] + teams[i+1:])\n",
    "    ]\n",
    "\n",
    "all_matchings = generate_matchings(teams)\n",
    "\n",
    "# 3. Compute sum of squared diffs for each matching\n",
    "def match_score(matching, forecasts):\n",
    "    diffs = [forecasts[i, j] for i, j in matching]\n",
    "    return np.sum(np.square(diffs))\n",
    "\n",
    "scores = np.array([match_score(m, model_forecasts) for m in all_matchings])\n",
    "\n",
    "# 4. Pick best matching (min score)\n",
    "best_matching = all_matchings[np.argmin(scores)]\n",
    "\n",
    "# 5. Format output\n",
    "matches_array = np.array(best_matching).T\n",
    "print(\"Best matching:\\n\", matches_array)\n"
   ]
  },
  {
   "cell_type": "code",
   "execution_count": null,
   "id": "3b53dbb5-694f-4dff-a58d-f23808268326",
   "metadata": {},
   "outputs": [],
   "source": []
  },
  {
   "cell_type": "code",
   "execution_count": null,
   "id": "3b05a4c1-2f5c-41b4-83eb-0a66256a8d0d",
   "metadata": {},
   "outputs": [],
   "source": []
  }
 ],
 "metadata": {
  "kernelspec": {
   "display_name": "Python 3 (ipykernel)",
   "language": "python",
   "name": "python3"
  },
  "language_info": {
   "codemirror_mode": {
    "name": "ipython",
    "version": 3
   },
   "file_extension": ".py",
   "mimetype": "text/x-python",
   "name": "python",
   "nbconvert_exporter": "python",
   "pygments_lexer": "ipython3",
   "version": "3.12.3"
  }
 },
 "nbformat": 4,
 "nbformat_minor": 5
}
