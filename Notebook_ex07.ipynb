{
 "cells": [
  {
   "cell_type": "markdown",
   "id": "6afce13a-0c5f-4050-907d-87ee87ae1eb0",
   "metadata": {},
   "source": [
    "## Exercise 7: NaN"
   ]
  },
  {
   "cell_type": "code",
   "execution_count": 6,
   "id": "c7d0d7db-1e37-43eb-a71b-61966ebd03cd",
   "metadata": {},
   "outputs": [
    {
     "name": "stdout",
     "output_type": "stream",
     "text": [
      "Generator(PCG64)\n",
      "\n",
      "\n",
      "[[7. 1.]\n",
      " [2. 2.]\n",
      " [2. 8.]\n",
      " [9. 3.]\n",
      " [8. 9.]\n",
      " [5. 2.]\n",
      " [8. 2.]\n",
      " [7. 6.]\n",
      " [9. 2.]\n",
      " [8. 5.]]\n",
      "\n",
      "\n",
      "[[ 7.  1.]\n",
      " [nan  2.]\n",
      " [nan  8.]\n",
      " [ 9.  3.]\n",
      " [ 8.  9.]\n",
      " [nan  2.]\n",
      " [ 8.  2.]\n",
      " [nan  6.]\n",
      " [ 9.  2.]\n",
      " [ 8.  5.]]\n"
     ]
    }
   ],
   "source": [
    "import numpy as np\n",
    "\n",
    "generator = np.random.default_rng(123)\n",
    "print(generator)\n",
    "print(\"\\n\")\n",
    "grades = np.round(generator.uniform(low=0.0, high=10.0, size=(10, 2)))\n",
    "print(grades)\n",
    "print(\"\\n\")\n",
    "grades[[1, 2, 5, 7], [0, 0, 0, 0]] = np.nan\n",
    "print(grades)\n"
   ]
  },
  {
   "cell_type": "code",
   "execution_count": 7,
   "id": "8608b4af-082b-4185-89a2-dc2fed5dbcf3",
   "metadata": {},
   "outputs": [
    {
     "name": "stdout",
     "output_type": "stream",
     "text": [
      "[7. 2. 8. 9. 8. 2. 8. 6. 9. 8.]\n"
     ]
    }
   ],
   "source": [
    "third_col = np.where(np.isnan(grades[:, 0]), grades[:, 1], grades[:, 0])\n",
    "print(third_col)"
   ]
  },
  {
   "cell_type": "code",
   "execution_count": 8,
   "id": "dc744ed1-75f6-4820-85d6-819ae41e8cb8",
   "metadata": {},
   "outputs": [
    {
     "name": "stdout",
     "output_type": "stream",
     "text": [
      "[[ 7.  1.  7.]\n",
      " [nan  2.  2.]\n",
      " [nan  8.  8.]\n",
      " [ 9.  3.  9.]\n",
      " [ 8.  9.  8.]\n",
      " [nan  2.  2.]\n",
      " [ 8.  2.  8.]\n",
      " [nan  6.  6.]\n",
      " [ 9.  2.  9.]\n",
      " [ 8.  5.  8.]]\n"
     ]
    }
   ],
   "source": [
    "result = np.column_stack((grades, third_col))\n",
    "print(result)\n"
   ]
  },
  {
   "cell_type": "code",
   "execution_count": null,
   "id": "5e0da684-339d-4576-b6e0-caf656d30a04",
   "metadata": {},
   "outputs": [],
   "source": []
  }
 ],
 "metadata": {
  "kernelspec": {
   "display_name": "Python 3 (ipykernel)",
   "language": "python",
   "name": "python3"
  },
  "language_info": {
   "codemirror_mode": {
    "name": "ipython",
    "version": 3
   },
   "file_extension": ".py",
   "mimetype": "text/x-python",
   "name": "python",
   "nbconvert_exporter": "python",
   "pygments_lexer": "ipython3",
   "version": "3.12.3"
  }
 },
 "nbformat": 4,
 "nbformat_minor": 5
}
