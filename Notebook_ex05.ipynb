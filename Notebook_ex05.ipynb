{
 "cells": [
  {
   "cell_type": "markdown",
   "id": "c3beddfe-98e7-49d4-8e9c-7db9f56d3892",
   "metadata": {},
   "source": [
    "## Exercise 5: Split, concatenate, reshape arrays"
   ]
  },
  {
   "cell_type": "code",
   "execution_count": 1,
   "id": "c5a0b942-4875-4e58-9d48-5865946bc29d",
   "metadata": {},
   "outputs": [
    {
     "name": "stdout",
     "output_type": "stream",
     "text": [
      "Array 1 (1–50):\n",
      " [ 1  2  3  4  5  6  7  8  9 10 11 12 13 14 15 16 17 18 19 20 21 22 23 24\n",
      " 25 26 27 28 29 30 31 32 33 34 35 36 37 38 39 40 41 42 43 44 45 46 47 48\n",
      " 49 50] \n",
      "\n"
     ]
    }
   ],
   "source": [
    "import numpy as np\n",
    "# 1. Generate an array with integers from 1 to 50\n",
    "arr1 = np.arange(1, 51)\n",
    "print(\"Array 1 (1–50):\\n\", arr1, \"\\n\")"
   ]
  },
  {
   "cell_type": "code",
   "execution_count": 2,
   "id": "9beccd16-21cf-4beb-ac9a-d9c71f906031",
   "metadata": {},
   "outputs": [
    {
     "name": "stdout",
     "output_type": "stream",
     "text": [
      "Array 2 (51-100):\n",
      " [ 51  52  53  54  55  56  57  58  59  60  61  62  63  64  65  66  67  68\n",
      "  69  70  71  72  73  74  75  76  77  78  79  80  81  82  83  84  85  86\n",
      "  87  88  89  90  91  92  93  94  95  96  97  98  99 100] \n",
      "\n"
     ]
    }
   ],
   "source": [
    "# 1. Generate an array with integers from 51 to 100\n",
    "arr2 = np.arange(51, 101)\n",
    "print(\"Array 2 (51-100):\\n\", arr2, \"\\n\")"
   ]
  },
  {
   "cell_type": "code",
   "execution_count": 5,
   "id": "74dc32e2-8a22-470f-804d-6e6b8080bceb",
   "metadata": {},
   "outputs": [
    {
     "name": "stdout",
     "output_type": "stream",
     "text": [
      "Concatenated Array (1-100)\n",
      " [  1   2   3   4   5   6   7   8   9  10  11  12  13  14  15  16  17  18\n",
      "  19  20  21  22  23  24  25  26  27  28  29  30  31  32  33  34  35  36\n",
      "  37  38  39  40  41  42  43  44  45  46  47  48  49  50  51  52  53  54\n",
      "  55  56  57  58  59  60  61  62  63  64  65  66  67  68  69  70  71  72\n",
      "  73  74  75  76  77  78  79  80  81  82  83  84  85  86  87  88  89  90\n",
      "  91  92  93  94  95  96  97  98  99 100]\n"
     ]
    }
   ],
   "source": [
    "# 3. Concatenate the two arrays\n",
    "arr_concat = np.concatenate((arr1, arr2))\n",
    "print(\"Concatenated Array (1-100)\\n\", arr_concat)"
   ]
  },
  {
   "cell_type": "code",
   "execution_count": 8,
   "id": "5ce33bca-d953-49db-95f2-e283b8200abb",
   "metadata": {},
   "outputs": [
    {
     "name": "stdout",
     "output_type": "stream",
     "text": [
      "Reshaped 10x10 Array:\n",
      " [[  1   2   3   4   5   6   7   8   9  10]\n",
      " [ 11  12  13  14  15  16  17  18  19  20]\n",
      " [ 21  22  23  24  25  26  27  28  29  30]\n",
      " [ 31  32  33  34  35  36  37  38  39  40]\n",
      " [ 41  42  43  44  45  46  47  48  49  50]\n",
      " [ 51  52  53  54  55  56  57  58  59  60]\n",
      " [ 61  62  63  64  65  66  67  68  69  70]\n",
      " [ 71  72  73  74  75  76  77  78  79  80]\n",
      " [ 81  82  83  84  85  86  87  88  89  90]\n",
      " [ 91  92  93  94  95  96  97  98  99 100]]\n"
     ]
    }
   ],
   "source": [
    "# 4. Reshape into 10x10\n",
    "arr_reshaped = arr_concat.reshape(10,10)\n",
    "print(\"Reshaped 10x10 Array:\\n\", arr_reshaped)"
   ]
  },
  {
   "cell_type": "code",
   "execution_count": null,
   "id": "f0a70177-9c18-4ff6-a6d5-eb96c774741e",
   "metadata": {},
   "outputs": [],
   "source": []
  }
 ],
 "metadata": {
  "kernelspec": {
   "display_name": "Python 3 (ipykernel)",
   "language": "python",
   "name": "python3"
  },
  "language_info": {
   "codemirror_mode": {
    "name": "ipython",
    "version": 3
   },
   "file_extension": ".py",
   "mimetype": "text/x-python",
   "name": "python",
   "nbconvert_exporter": "python",
   "pygments_lexer": "ipython3",
   "version": "3.12.3"
  }
 },
 "nbformat": 4,
 "nbformat_minor": 5
}
