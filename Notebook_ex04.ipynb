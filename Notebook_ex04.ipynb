{
 "cells": [
  {
   "cell_type": "markdown",
   "id": "23b9243f-37e2-4a67-aa12-32d8b713bd01",
   "metadata": {},
   "source": [
    "## Exercise 4: Random"
   ]
  },
  {
   "cell_type": "code",
   "execution_count": 1,
   "id": "17846e6e-fd97-497a-a71d-4591224ab7b6",
   "metadata": {},
   "outputs": [],
   "source": [
    "import numpy as np"
   ]
  },
  {
   "cell_type": "code",
   "execution_count": 3,
   "id": "55a1f63d-8ced-4f8b-8b4f-b5ac43086d4b",
   "metadata": {},
   "outputs": [],
   "source": [
    "# 1. Set the seed to 888 (so results are reproducible)\n",
    "np.random.seed(888)"
   ]
  },
  {
   "cell_type": "code",
   "execution_count": 5,
   "id": "be1b8b69-99dd-468f-8942-ce594195ac95",
   "metadata": {},
   "outputs": [
    {
     "name": "stdout",
     "output_type": "stream",
     "text": [
      "[-0.07709578  0.11726715  0.27025277 -0.58366313 -1.59306943 -0.96499503\n",
      "  0.77776558  0.5147422   1.43145716  0.36811156  0.45166194  0.29363375\n",
      " -1.0826927  -0.58007176  0.85113031  1.17101233  1.23707973 -0.5142449\n",
      " -1.05149287 -0.35738287 -0.20687447  0.27985759 -1.40777268  0.98351332\n",
      "  0.20283536 -0.48134655  1.43122811  0.33655721 -0.25367467 -0.71431213\n",
      " -1.3183988  -0.48975812  2.12003625 -2.11468423 -2.63576433  1.72353902\n",
      " -0.22564201  0.76006445 -0.88091651 -0.2529336   1.41197056 -1.80925916\n",
      " -0.85439975 -1.04018941  0.11445591  0.38828076  0.34751399 -0.20199612\n",
      "  0.23486733 -0.43546532  0.10231181  0.0441651  -1.27296178  0.39756296\n",
      "  2.407855    1.3017182  -1.32527458  1.68760536  0.411356    1.52626108\n",
      "  0.14575703  0.3132854   0.16435966  0.13652497  0.39296835  0.17063542\n",
      " -0.7662608  -0.95152711 -1.50133434  0.45446246  0.69009994 -0.96058718\n",
      " -0.82834378  0.66744863 -1.55593018 -1.40452004  0.59710818 -1.45831432\n",
      "  0.24254733 -0.42707128  0.90154539  0.77946282 -0.19867385 -1.57599519\n",
      " -0.06089546 -0.12855738  0.45676866  0.17415399  0.57546832  0.67072376\n",
      " -0.35109467  0.63179614 -1.67645872 -0.40287699 -0.0848251  -0.27545554\n",
      "  0.00570321  0.09402043  0.05917932 -1.14949807]\n"
     ]
    }
   ],
   "source": [
    "# 2. Generate a one-dimensional array of size 100 with a normal distribution\n",
    "arr1 = np.random.normal(size=100)\n",
    "print(arr1)"
   ]
  },
  {
   "cell_type": "code",
   "execution_count": 6,
   "id": "2949cd35-d3a6-42a4-ae1d-b3749be376f0",
   "metadata": {},
   "outputs": [
    {
     "name": "stdout",
     "output_type": "stream",
     "text": [
      "[[ 3  4 10  4  7  8  9  2]\n",
      " [ 2  9 10  8  8  6  2  4]\n",
      " [ 5  2  9  5 10  6  2  8]\n",
      " [ 9  5  1  1  9  1  3  1]\n",
      " [ 1  8  2  1  4  4  1  6]\n",
      " [ 1  9  2  4  9 10  3  1]\n",
      " [ 2 10  4 10  8  7  4  4]\n",
      " [ 4  2  6  6 10  2  2  1]]\n"
     ]
    }
   ],
   "source": [
    "# 3. Generate a two-dimensional array of size 8x8 with random integers 1–10 inclusive\n",
    "arr2 = np.random.randint(1, 11, size=(8, 8))\n",
    "print(arr2)"
   ]
  },
  {
   "cell_type": "code",
   "execution_count": 7,
   "id": "1141201c-489e-451a-8f85-78a7ed2f95ad",
   "metadata": {},
   "outputs": [
    {
     "name": "stdout",
     "output_type": "stream",
     "text": [
      "[[[10 16  9  8  3]\n",
      "  [ 7 11 12  5 12]]\n",
      "\n",
      " [[ 7 16  2 10 14]\n",
      "  [ 9  1  4 11 11]]\n",
      "\n",
      " [[ 5  5  4 10 11]\n",
      "  [ 4  3 13  6  7]]\n",
      "\n",
      " [[15 10  2  8 17]\n",
      "  [ 2  5  8  8 16]]]\n"
     ]
    }
   ],
   "source": [
    "# 4. Generate a three-dimensional array of size 4x2x5 with random integers 1–17 inclusive\n",
    "arr3 = np.random.randint(1, 18, size=(4, 2, 5))\n",
    "print(arr3)"
   ]
  },
  {
   "cell_type": "code",
   "execution_count": null,
   "id": "a9e47116-1afc-4741-84cf-7029869a913d",
   "metadata": {},
   "outputs": [],
   "source": []
  }
 ],
 "metadata": {
  "kernelspec": {
   "display_name": "Python 3 (ipykernel)",
   "language": "python",
   "name": "python3"
  },
  "language_info": {
   "codemirror_mode": {
    "name": "ipython",
    "version": 3
   },
   "file_extension": ".py",
   "mimetype": "text/x-python",
   "name": "python",
   "nbconvert_exporter": "python",
   "pygments_lexer": "ipython3",
   "version": "3.12.3"
  }
 },
 "nbformat": 4,
 "nbformat_minor": 5
}
